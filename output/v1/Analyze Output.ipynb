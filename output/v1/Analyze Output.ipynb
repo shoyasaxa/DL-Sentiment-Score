{
 "cells": [
  {
   "cell_type": "code",
   "execution_count": 9,
   "metadata": {},
   "outputs": [],
   "source": [
    "import pandas as pd \n",
    "import numpy as np \n",
    "from sklearn.preprocessing import MinMaxScaler"
   ]
  },
  {
   "cell_type": "code",
   "execution_count": 2,
   "metadata": {},
   "outputs": [],
   "source": [
    "df = pd.read_excel(\"sentence_level_review_and_scores.xlsx\")"
   ]
  },
  {
   "cell_type": "code",
   "execution_count": 5,
   "metadata": {},
   "outputs": [],
   "source": [
    "df[\"score_min_max_scaled\"] = df[\"score_min_max_scaled\"]*5 \n",
    "df_reviews = df.groupby([\"prof_id\",'review_id']).mean()\n",
    "df_prof = df.groupby([\"prof_id\"]).mean()"
   ]
  },
  {
   "cell_type": "code",
   "execution_count": 20,
   "metadata": {},
   "outputs": [],
   "source": [
    "df_reviews.to_excel(\"reviews_and_scores.xlsx\")"
   ]
  },
  {
   "cell_type": "code",
   "execution_count": 17,
   "metadata": {},
   "outputs": [
    {
     "data": {
      "text/html": [
       "<div>\n",
       "<style scoped>\n",
       "    .dataframe tbody tr th:only-of-type {\n",
       "        vertical-align: middle;\n",
       "    }\n",
       "\n",
       "    .dataframe tbody tr th {\n",
       "        vertical-align: top;\n",
       "    }\n",
       "\n",
       "    .dataframe thead th {\n",
       "        text-align: right;\n",
       "    }\n",
       "</style>\n",
       "<table border=\"1\" class=\"dataframe\">\n",
       "  <thead>\n",
       "    <tr style=\"text-align: right;\">\n",
       "      <th></th>\n",
       "      <th>score</th>\n",
       "      <th>score_min_max_scaled</th>\n",
       "      <th>score_scaled</th>\n",
       "    </tr>\n",
       "    <tr>\n",
       "      <th>prof_id</th>\n",
       "      <th></th>\n",
       "      <th></th>\n",
       "      <th></th>\n",
       "    </tr>\n",
       "  </thead>\n",
       "  <tbody>\n",
       "    <tr>\n",
       "      <td>1</td>\n",
       "      <td>2.817598</td>\n",
       "      <td>2.583718</td>\n",
       "      <td>2.769053</td>\n",
       "    </tr>\n",
       "    <tr>\n",
       "      <td>8</td>\n",
       "      <td>2.973568</td>\n",
       "      <td>2.810419</td>\n",
       "      <td>3.063336</td>\n",
       "    </tr>\n",
       "    <tr>\n",
       "      <td>9</td>\n",
       "      <td>2.686259</td>\n",
       "      <td>2.392818</td>\n",
       "      <td>2.521242</td>\n",
       "    </tr>\n",
       "    <tr>\n",
       "      <td>10</td>\n",
       "      <td>2.687229</td>\n",
       "      <td>2.394228</td>\n",
       "      <td>2.523073</td>\n",
       "    </tr>\n",
       "    <tr>\n",
       "      <td>11</td>\n",
       "      <td>2.942687</td>\n",
       "      <td>2.765533</td>\n",
       "      <td>3.005069</td>\n",
       "    </tr>\n",
       "    <tr>\n",
       "      <td>...</td>\n",
       "      <td>...</td>\n",
       "      <td>...</td>\n",
       "      <td>...</td>\n",
       "    </tr>\n",
       "    <tr>\n",
       "      <td>13787</td>\n",
       "      <td>4.000000</td>\n",
       "      <td>4.302326</td>\n",
       "      <td>5.000000</td>\n",
       "    </tr>\n",
       "    <tr>\n",
       "      <td>13789</td>\n",
       "      <td>3.000000</td>\n",
       "      <td>2.848837</td>\n",
       "      <td>3.113208</td>\n",
       "    </tr>\n",
       "    <tr>\n",
       "      <td>13790</td>\n",
       "      <td>2.312000</td>\n",
       "      <td>1.848837</td>\n",
       "      <td>1.815094</td>\n",
       "    </tr>\n",
       "    <tr>\n",
       "      <td>13793</td>\n",
       "      <td>3.272000</td>\n",
       "      <td>3.244186</td>\n",
       "      <td>3.626415</td>\n",
       "    </tr>\n",
       "    <tr>\n",
       "      <td>13794</td>\n",
       "      <td>2.262857</td>\n",
       "      <td>1.777409</td>\n",
       "      <td>1.722372</td>\n",
       "    </tr>\n",
       "  </tbody>\n",
       "</table>\n",
       "<p>3359 rows × 3 columns</p>\n",
       "</div>"
      ],
      "text/plain": [
       "            score  score_min_max_scaled  score_scaled\n",
       "prof_id                                              \n",
       "1        2.817598              2.583718      2.769053\n",
       "8        2.973568              2.810419      3.063336\n",
       "9        2.686259              2.392818      2.521242\n",
       "10       2.687229              2.394228      2.523073\n",
       "11       2.942687              2.765533      3.005069\n",
       "...           ...                   ...           ...\n",
       "13787    4.000000              4.302326      5.000000\n",
       "13789    3.000000              2.848837      3.113208\n",
       "13790    2.312000              1.848837      1.815094\n",
       "13793    3.272000              3.244186      3.626415\n",
       "13794    2.262857              1.777409      1.722372\n",
       "\n",
       "[3359 rows x 3 columns]"
      ]
     },
     "execution_count": 17,
     "metadata": {},
     "output_type": "execute_result"
    }
   ],
   "source": [
    "# minmax_scaler = MinMaxScaler()\n",
    "\n",
    "df_prof['score_scaled'] = minmax_scaler.fit_transform(df_prof['score'].values.reshape(-1,1))*5\n",
    "        \n",
    "df_prof[['score','score_min_max_scaled','score_scaled']]\n",
    "# df_prof[['score','score_min_max_scaled']]"
   ]
  },
  {
   "cell_type": "code",
   "execution_count": 19,
   "metadata": {},
   "outputs": [],
   "source": [
    "df_prof.sort_values('score').to_excel(\"prof scores.xlsx\")"
   ]
  },
  {
   "cell_type": "code",
   "execution_count": null,
   "metadata": {},
   "outputs": [],
   "source": []
  }
 ],
 "metadata": {
  "kernelspec": {
   "display_name": "Python 3",
   "language": "python",
   "name": "python3"
  },
  "language_info": {
   "codemirror_mode": {
    "name": "ipython",
    "version": 3
   },
   "file_extension": ".py",
   "mimetype": "text/x-python",
   "name": "python",
   "nbconvert_exporter": "python",
   "pygments_lexer": "ipython3",
   "version": "3.7.4"
  }
 },
 "nbformat": 4,
 "nbformat_minor": 2
}
